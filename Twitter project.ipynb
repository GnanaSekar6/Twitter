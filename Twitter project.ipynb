{
 "cells": [
  {
   "cell_type": "code",
   "execution_count": 2,
   "id": "57f82435",
   "metadata": {},
   "outputs": [
    {
     "name": "stdout",
     "output_type": "stream",
     "text": [
      "Defaulting to user installation because normal site-packages is not writeable\n",
      "Collecting snscrape\n",
      "  Downloading snscrape-0.5.0.20230113-py3-none-any.whl (69 kB)\n",
      "     -------------------------------------- 69.2/69.2 kB 417.9 kB/s eta 0:00:00\n",
      "Requirement already satisfied: beautifulsoup4 in c:\\programdata\\anaconda3\\lib\\site-packages (from snscrape) (4.11.1)\n",
      "Requirement already satisfied: requests[socks] in c:\\programdata\\anaconda3\\lib\\site-packages (from snscrape) (2.28.1)\n",
      "Requirement already satisfied: lxml in c:\\programdata\\anaconda3\\lib\\site-packages (from snscrape) (4.9.1)\n",
      "Requirement already satisfied: filelock in c:\\programdata\\anaconda3\\lib\\site-packages (from snscrape) (3.6.0)\n",
      "Requirement already satisfied: soupsieve>1.2 in c:\\programdata\\anaconda3\\lib\\site-packages (from beautifulsoup4->snscrape) (2.3.1)\n",
      "Requirement already satisfied: urllib3<1.27,>=1.21.1 in c:\\programdata\\anaconda3\\lib\\site-packages (from requests[socks]->snscrape) (1.26.11)\n",
      "Requirement already satisfied: certifi>=2017.4.17 in c:\\programdata\\anaconda3\\lib\\site-packages (from requests[socks]->snscrape) (2022.9.14)\n",
      "Requirement already satisfied: charset-normalizer<3,>=2 in c:\\programdata\\anaconda3\\lib\\site-packages (from requests[socks]->snscrape) (2.0.4)\n",
      "Requirement already satisfied: idna<4,>=2.5 in c:\\programdata\\anaconda3\\lib\\site-packages (from requests[socks]->snscrape) (3.3)\n",
      "Requirement already satisfied: PySocks!=1.5.7,>=1.5.6 in c:\\programdata\\anaconda3\\lib\\site-packages (from requests[socks]->snscrape) (1.7.1)\n",
      "Installing collected packages: snscrape\n",
      "Successfully installed snscrape-0.5.0.20230113\n",
      "Note: you may need to restart the kernel to use updated packages.\n"
     ]
    },
    {
     "name": "stderr",
     "output_type": "stream",
     "text": [
      "  WARNING: The script snscrape.exe is installed in 'C:\\Users\\user two\\AppData\\Roaming\\Python\\Python39\\Scripts' which is not on PATH.\n",
      "  Consider adding this directory to PATH or, if you prefer to suppress this warning, use --no-warn-script-location.\n"
     ]
    }
   ],
   "source": [
    "pip install snscrape"
   ]
  },
  {
   "cell_type": "code",
   "execution_count": 3,
   "id": "9d8e52c1",
   "metadata": {},
   "outputs": [
    {
     "name": "stderr",
     "output_type": "stream",
     "text": [
      "2023-02-13 00:06:04.850 \n",
      "  \u001b[33m\u001b[1mWarning:\u001b[0m to view this Streamlit app on a browser, run it with the following\n",
      "  command:\n",
      "\n",
      "    streamlit run C:\\ProgramData\\Anaconda3\\lib\\site-packages\\ipykernel_launcher.py [ARGUMENTS]\n"
     ]
    },
    {
     "data": {
      "text/plain": [
       "False"
      ]
     },
     "execution_count": 3,
     "metadata": {},
     "output_type": "execute_result"
    }
   ],
   "source": [
    "import snscrape.modules.twitter as sntwit\n",
    "import pymongo as pm\n",
    "import pandas as pd\n",
    "from pymongo import MongoClient\n",
    "import streamlit as st\n",
    "# twitter data scrapping as per keyword or hashtag\n",
    "data1=[]\n",
    "with st.form(\"my_form\"):\n",
    "    search= st.text_input(\"Enter a keyword or hashtag based on that data should be scraped: \")\n",
    "    number_tweets=st.slider('Enter the count of tweets to be scraped:', 0,1000,100)\n",
    "    num_tweet=int(number_tweets)\n",
    "    submit=st.form_submit_button(\"Submit\")\n",
    "    if submit:\n",
    "        for i,tweet in enumerate(sntwit.TwitterSearchScraper(search).get_items()):\n",
    "            if i>num_tweet:\n",
    "                break\n",
    "            data1.append([tweet.date,tweet.id,tweet.url,tweet.content,tweet.user.username,tweet.replyCount,tweet.retweetCount,tweet.lang,tweet.likeCount,tweet.source])                                   \n",
    "df=pd.DataFrame(data1,columns=[\"Date\",\"ID\",\"URL\",\"Content\",\"User_name\",\"Reply_count\",\"Retweet_count\",\"Language\",\"Likes_count\",\"Source\"])\n",
    "st.write(df)\n",
    "with st.form(\"form\"):\n",
    "    st.write(\"Press Enter to upload the data into database:\")\n",
    "    Enter=st.form_submit_button(\"Enter\")\n",
    "    if Enter:\n",
    "        client=MongoClient(\"mongodb://localhost:27017/\")\n",
    "        df.reset_index(inplace=True)\n",
    "        data_dict = df.to_dict(\"records\")\n",
    "        db=client[\"tweeter_database\"]\n",
    "        collection=db[search]\n",
    "        collection.insert_one({\"index\":f\"{search}\",\"data\":data_dict})\n",
    "        st.success(\"Data has been uploaded:\",icon='✅')\n",
    "st.write(\"Download the file in the format you want:\")\n",
    "st.write(\"Download in csv format\")\n",
    "def convert_to_csv(df):\n",
    "    return df.to_csv(index=False).encode(\"utf-8\")\n",
    "csv_file=convert_to_csv(df)\n",
    "st.download_button(\"download csv\",csv_file,f\"{search}_tweet.csv\",\"text/csv\",key=\"download-csv\")\n",
    "st.write(\"Downalod in json format\")\n",
    "def convert_to_json(df):\n",
    "    return df.to_json().encode(\"utf-8\")\n",
    "json_file=convert_to_json(df)\n",
    "st.download_button(\"download json\",json_file,f\"{search}_tweet.json\",\"text/json\",key=\"download-json\")"
   ]
  },
  {
   "cell_type": "code",
   "execution_count": null,
   "id": "efab8e28",
   "metadata": {},
   "outputs": [],
   "source": []
  }
 ],
 "metadata": {
  "kernelspec": {
   "display_name": "Python 3 (ipykernel)",
   "language": "python",
   "name": "python3"
  },
  "language_info": {
   "codemirror_mode": {
    "name": "ipython",
    "version": 3
   },
   "file_extension": ".py",
   "mimetype": "text/x-python",
   "name": "python",
   "nbconvert_exporter": "python",
   "pygments_lexer": "ipython3",
   "version": "3.9.13"
  }
 },
 "nbformat": 4,
 "nbformat_minor": 5
}
